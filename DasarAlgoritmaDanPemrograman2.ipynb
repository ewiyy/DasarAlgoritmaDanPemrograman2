{
  "nbformat": 4,
  "nbformat_minor": 0,
  "metadata": {
    "colab": {
      "provenance": []
    },
    "kernelspec": {
      "name": "python3",
      "display_name": "Python 3"
    },
    "language_info": {
      "name": "python"
    }
  },
  "cells": [
    {
      "cell_type": "code",
      "execution_count": 1,
      "metadata": {
        "colab": {
          "base_uri": "https://localhost:8080/"
        },
        "id": "393C8Gv8--tt",
        "outputId": "5fc45f44-7e47-4390-be09-ad9d06c67898"
      },
      "outputs": [
        {
          "output_type": "stream",
          "name": "stdout",
          "text": [
            "Masukkan total belanja (Rp): 600000\n",
            "\n",
            "===== STRUK PEMBAYARAN =====\n",
            "Total belanja   : Rp600,000.00\n",
            "Diskon          : Rp60,000.00\n",
            "Total bayar     : Rp540,000.00\n"
          ]
        }
      ],
      "source": [
        "# file: diskon_ecommerce.py\n",
        "# Input total belanja\n",
        "try:\n",
        "    total_belanja = float(input(\"Masukkan total belanja (Rp): \"))\n",
        "\n",
        "    if total_belanja > 500000:\n",
        "        diskon = 0.10 * total_belanja\n",
        "    else:\n",
        "        diskon = 0.0\n",
        "\n",
        "    total_bayar = total_belanja - diskon\n",
        "\n",
        "    print(\"\\n===== STRUK PEMBAYARAN =====\")\n",
        "    print(f\"Total belanja   : Rp{total_belanja:,.2f}\")\n",
        "    print(f\"Diskon          : Rp{diskon:,.2f}\")\n",
        "    print(f\"Total bayar     : Rp{total_bayar:,.2f}\")\n",
        "\n",
        "except ValueError:\n",
        "    print(\"Input tidak valid. Masukkan angka yang benar.\")\n"
      ]
    }
  ]
}